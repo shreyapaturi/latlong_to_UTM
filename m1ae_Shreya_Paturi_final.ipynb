{
 "cells": [
  {
   "cell_type": "markdown",
   "id": "3092e78e",
   "metadata": {},
   "source": []
  },
  {
   "cell_type": "code",
   "execution_count": 1,
   "id": "3f28441c",
   "metadata": {},
   "outputs": [],
   "source": [
    "NAME = \"Shreya Paturi\"\n",
    "COLLABORATORS = \"\""
   ]
  },
  {
   "cell_type": "markdown",
   "id": "207c7230",
   "metadata": {},
   "source": [
    "---"
   ]
  },
  {
   "cell_type": "code",
   "execution_count": 2,
   "id": "9cb56a82",
   "metadata": {},
   "outputs": [],
   "source": [
    "import IPython\n",
    "assert IPython.version_info[0] >= 3, \"Your version of IPython is too old, please update it.\""
   ]
  },
  {
   "cell_type": "markdown",
   "id": "22e77d1b",
   "metadata": {
    "deletable": false,
    "editable": false,
    "nbgrader": {
     "cell_type": "markdown",
     "checksum": "28a2c00e6e233923d5c45ef799c42996",
     "grade": false,
     "grade_id": "cell-1ee516e27bd6a0d7",
     "locked": true,
     "schema_version": 3,
     "solution": false,
     "task": false
    }
   },
   "source": [
    "# Module 1 Assessed Exercise: Writing your first program\n",
    "\n",
    "This notebook template includes two sections, one for each method you are going to develop. To help you get started, the first section break the potential solution into three more managable components: horizontal code calculation, vertical code calculation, and code concatenation. You should write code within each component (between 'begin solution' and 'end solution') to make them functioning. Each functional component can then be tested with the testing code following each function. Don't worry if you don't understand the testing code, it's only here to help you check if your code is functioning properly. Passing a test does not mean your code is 100% accuracte, your code will be tested more extensively once submitted. \n",
    "\n",
    "The second section gives you more freedom in implementing an alternative method. Please do have a try if you are aiming for more than 80%. \n"
   ]
  },
  {
   "cell_type": "markdown",
   "id": "fe60c465",
   "metadata": {
    "deletable": false,
    "editable": false,
    "nbgrader": {
     "cell_type": "markdown",
     "checksum": "1e2148a010129a63d05bded35d54f222",
     "grade": false,
     "grade_id": "cell-09045c324e4b5715",
     "locked": true,
     "schema_version": 3,
     "solution": false,
     "task": false
    }
   },
   "source": [
    "## Method 1"
   ]
  },
  {
   "cell_type": "code",
   "execution_count": 3,
   "id": "68d9188e",
   "metadata": {
    "deletable": false,
    "nbgrader": {
     "cell_type": "code",
     "checksum": "f89666e489dea6cc52a225fcc77111e0",
     "grade": false,
     "grade_id": "transx",
     "locked": false,
     "schema_version": 3,
     "solution": true,
     "task": false
    }
   },
   "outputs": [],
   "source": [
    "def transformX(longitude):\n",
    "    '''return the UTM horizontal code as a string given the input longitude as a float number. \n",
    "    Do not worry about special cases for the moment'''\n",
    "    \n",
    "    #This equation that converts the input longitude to the respective UTM zone number\n",
    "    #as UTM zones are not represented in float type, the result is rounded to 0 decimal places  and also converted to integer type for a whole number, then converted to string to use it further concatenation with latitude bands\n",
    "    \n",
    "    utmX=str(int(round((longitude+180)/6 ,0)))\n",
    "        \n",
    "    return utmX# returns the converted longitude value if the function transformX is called with the longitude argument\n",
    "    raise NotImplementedError()"
   ]
  },
  {
   "cell_type": "code",
   "execution_count": 4,
   "id": "a4cd4760",
   "metadata": {
    "deletable": false,
    "editable": false,
    "nbgrader": {
     "cell_type": "code",
     "checksum": "828158674ff69c8b7531cfddbe0c924c",
     "grade": true,
     "grade_id": "transx_tests",
     "locked": true,
     "points": 1,
     "schema_version": 3,
     "solution": false,
     "task": false
    }
   },
   "outputs": [
    {
     "name": "stdout",
     "output_type": "stream",
     "text": [
      "success!\n"
     ]
    }
   ],
   "source": [
    "'''test your implementation'''\n",
    "assert transformX(-163)=='3' or transformX(-163)=='03', \"longitude -163 should be transformed to '3'\"\n",
    "print('success!')"
   ]
  },
  {
   "cell_type": "code",
   "execution_count": 5,
   "id": "e61ff6c9",
   "metadata": {
    "deletable": false,
    "nbgrader": {
     "cell_type": "code",
     "checksum": "fa0f364da87f359573e0f75f2df5a1c1",
     "grade": false,
     "grade_id": "transy",
     "locked": false,
     "schema_version": 3,
     "solution": true,
     "task": false
    }
   },
   "outputs": [],
   "source": [
    "def transformY(latitude):\n",
    "    '''return the UTM vertical code as a string given latitude as a float number. \n",
    "    Do not worry about A,B,Y or Z for the moment '''\n",
    "    # YOUR CODE HERE\n",
    "    #Each UTM zone is segmented into 20 latitude bands. Each latitude band is 8 degrees high with some exceptions, and is lettered starting from \"C\" at 80°S, increasing up to \"X\", omitting the letters \"I\" and \"O\" (because of their similarity to the numerals one and zero)\n",
    "    #create a variable latBands to define the string containing the 20 latitude band alphabets\n",
    "    #both the complete string latBands or directly returning the respective string in the if-else statements work. Either methods can be used\n",
    "    latBands=\"CDEFGHJKLMNPQRSTUVWX\"\n",
    "  \n",
    "    # equation((latitude+84)/8) for converting latitude to UTM latitude band does not work as there are irregularities in the difference in bands. For example, the gap between W and X band is 12 degrees, whereas, most of the bands 8 degrees apart\n",
    "    #Therefore, a series of if statements are used that directly provide ranges for the input latitude values\n",
    "   \n",
    "    if latitude <= -72.0  and  latitude > -80.0:\n",
    "        return latBands[0]        #returns string \"C\"\n",
    "    elif latitude <= -64.0  and  latitude > -72.0:\n",
    "        return latBands[1]       #returns string \"D\"\n",
    "    elif latitude <= -56.0  and  latitude > -64.0:\n",
    "        return latBands[2]      #returns string \"E\"\n",
    "    elif latitude <= -48.0  and   latitude > -56.0:\n",
    "        return latBands[3]     #returns string \"F\"\n",
    "    elif latitude <= -40.0  and  latitude > -48.0:\n",
    "        return latBands[4]     #returns string \"G\"\n",
    "    elif latitude <= -32.0  and  latitude > -40.0:\n",
    "        return latBands[5]     #returns string \"H\"\n",
    "    elif latitude <= -24.0  and  latitude > -32.0:\n",
    "        return latBands[6]    #returns string \"J\"\n",
    "    elif latitude <= -16.0  and  latitude > -24.0:\n",
    "        return latBands[7]   #returns string \"K\"\n",
    "    elif latitude <= -8.0  and  latitude > -16.0:\n",
    "        return latBands[8]   #returns string \"L\"\n",
    "    elif latitude <= 0.0  and  latitude > -8.0:\n",
    "        return latBands[9]   #returns string \"M\"\n",
    "    elif latitude <= 8.0  and  latitude > 0.0:\n",
    "        return latBands[10]  #returns string \"N\"\n",
    "    elif latitude <= 16.0  and  latitude > 8.0:\n",
    "        return latBands[11]   #returns string \"P\"\n",
    "    elif latitude <= 24.0  and  latitude > 16.0:\n",
    "        return latBands[12]   #returns string \"Q\"\n",
    "    elif latitude <= 32.0  and  latitude > 24.0:\n",
    "        return latBands[13]   #returns string \"R\"\n",
    "    elif latitude <= 40.0  and  latitude > 32.0:\n",
    "        return latBands[14]   #returns string \"S\"\n",
    "    elif latitude <= 48.0  and  latitude > 40.0:\n",
    "        return latBands[15]  #returns string \"T\"\n",
    "    elif latitude <= 56.0  and  latitude > 48.0:\n",
    "        return latBands[16]  #returns string \"U\"\n",
    "    elif latitude <= 64.0  and  latitude > 56.0:\n",
    "        return latBands[17]  #returns string \"V\"\n",
    "    elif latitude <= 72.0  and  latitude > 64.0:\n",
    "        return latBands[18]  #returns string \"W\"\n",
    "    elif latitude <= 84.0  and  latitude > 72.0:\n",
    "        return latBands[19]  #returns string \"X\"\n",
    "    \n",
    "        raise NotImplementedError()"
   ]
  },
  {
   "cell_type": "code",
   "execution_count": 6,
   "id": "7d5e7493",
   "metadata": {
    "deletable": false,
    "editable": false,
    "nbgrader": {
     "cell_type": "code",
     "checksum": "e892e89110e2c0f275b578765e160b2e",
     "grade": true,
     "grade_id": "transy_tests",
     "locked": true,
     "points": 1,
     "schema_version": 3,
     "solution": false,
     "task": false
    }
   },
   "outputs": [
    {
     "name": "stdout",
     "output_type": "stream",
     "text": [
      "success!\n"
     ]
    }
   ],
   "source": [
    "'''test your implementation'''\n",
    "assert transformY(-5.6)=='M', \"latitude 5.6 should be transformed to 'M'\"\n",
    "print('success!')"
   ]
  },
  {
   "cell_type": "code",
   "execution_count": 7,
   "id": "b479626d",
   "metadata": {
    "deletable": false,
    "nbgrader": {
     "cell_type": "code",
     "checksum": "8cc8f9eebbdb205e5a4b6198b5be36b7",
     "grade": false,
     "grade_id": "utm",
     "locked": false,
     "schema_version": 3,
     "solution": true,
     "task": false
    }
   },
   "outputs": [],
   "source": [
    "def transformUTM(longitude, latitude):\n",
    "    '''This function combines the functionality of transformX and transformY, returns a validate UTM zone code. \n",
    "    Note: in this function you should also write code to handle irregular UTM zones: 31V, 32V, 31X, 33X, 35X, 37X'''\n",
    "    \n",
    "    # Create two variables to access both the latitude and longitude UTM functions created before\n",
    "    utmXfunction=transformX(longitude)# takes the longitude argument from input, executes the transformX function with the input and stores the output of the function as a variable \n",
    "    utmYfunction=transformY(latitude)# takes the latitude argument from input, executes the transformY function with the input and stores the output of the function as a variable \n",
    "    \n",
    "    #A series of if and else to handle irregular UTM zones\n",
    "    #On the southwest coast of Norway, grid zone 32V (9° of longitude in width) is extended further west, and grid zone 31V (3° of longitude in width) is correspondingly shrunk to cover only open water. \n",
    "    #Also, in the region around Svalbard, the four grid zones 31X (9° of longitude in width), 33X (12° of longitude in width), 35X (12° of longitude in width), and 37X (9° of longitude in width) are extended to cover what would otherwise have been covered by the seven grid zones 31X to 37X. \n",
    "    #The three grid zones 32X, 34X and 36X are not used.\n",
    "    \n",
    "    if utmXfunction >= '-6' and utmXfunction < '3' and utmYfunction == 'V':\n",
    "        return  '31V'\n",
    "    if utmXfunction >= '3' and utmXfunction > '12' and utmYfunction == 'V':\n",
    "        return  '32V'\n",
    "    if utmXfunction >= '0' and utmXfunction < '9' and utmYfunction == 'X':\n",
    "        return  '31X'\n",
    "    if utmXfunction >= '9' and utmXfunction < '21' and utmYfunction == 'X':\n",
    "        return  '33X'\n",
    "    if utmXfunction >= '21' and utmXfunction < '33' and utmYfunction == 'X':\n",
    "        return  '35X'\n",
    "    if utmXfunction >= '33' and utmXfunction < '42' and utmYfunction == 'X':\n",
    "        return  '37X'\n",
    "    else:\n",
    "        return utmXfunction+utmYfunction\n",
    "    raise NotImplementedError()\n",
    "    "
   ]
  },
  {
   "cell_type": "code",
   "execution_count": 8,
   "id": "d35876f0",
   "metadata": {
    "deletable": false,
    "editable": false,
    "nbgrader": {
     "cell_type": "code",
     "checksum": "23e6889088c4760384d7776f0cacfb38",
     "grade": true,
     "grade_id": "utm_tests",
     "locked": true,
     "points": 3,
     "schema_version": 3,
     "solution": false,
     "task": false
    }
   },
   "outputs": [
    {
     "name": "stdout",
     "output_type": "stream",
     "text": [
      "success!\n"
     ]
    }
   ],
   "source": [
    "'''test your implementation'''\n",
    "assert transformUTM(-74.006, 40.7128)=='18T', \"The UTM zone of New York should be '18T'\"\n",
    "print('success!')"
   ]
  },
  {
   "cell_type": "markdown",
   "id": "6e50ce22",
   "metadata": {
    "deletable": false,
    "editable": false,
    "nbgrader": {
     "cell_type": "markdown",
     "checksum": "bc99f6342f0ad772d9772093d47ed972",
     "grade": false,
     "grade_id": "cell-4e493fe4cd3e1d6b",
     "locked": true,
     "schema_version": 3,
     "solution": false,
     "task": false
    }
   },
   "source": [
    "## Method 2"
   ]
  },
  {
   "cell_type": "code",
   "execution_count": 9,
   "id": "3af169ca",
   "metadata": {
    "deletable": false,
    "nbgrader": {
     "cell_type": "code",
     "checksum": "8922512b0b19119fba17a5f5a22dfcf5",
     "grade": false,
     "grade_id": "method2",
     "locked": false,
     "schema_version": 3,
     "solution": true,
     "task": false
    }
   },
   "outputs": [],
   "source": [
    "#This method uses python dictionaries to lookup latitude and longitude values and output their respective keys/UTM zone numbers and bands\n",
    "\n",
    "# sources reffered: \n",
    "# https://stackoverflow.com/questions/23999801/python-creating-multiple-lists?\n",
    "# https://www.geeksforgeeks.org/python-get-key-from-value-in-dictionary/?\n",
    "#https://thispointer.com/python-dictionary-with-multiple-values-per-key/?\n",
    "#https://stackoverflow.com/questions/50299172/python-range-or-numpy-arange-with-end-limit-include?\n",
    "#https://en.wikipedia.org/wiki/Universal_Transverse_Mercator_coordinate_system?\n",
    "\n",
    "#import numpy library to use it for the numpy.arange() function that generates an array of values when a start value, stop value and a step(difference between each value of the array) value is provided\n",
    "import  numpy as np\n",
    "\n",
    "#creating a function to generate UTM converted longitude\n",
    "def transformX2(longitude):\n",
    "\n",
    "#rounding off the input float values for easier use in dictionaries\n",
    "    long_Float_to_Int=int(round(longitude,0))\n",
    "\n",
    "#create an empty dictionary to populate keys and values\n",
    "    longDict={}\n",
    "    start= -180#longitude 1 starts at -180 \n",
    "    stop= -174 #and ends at -173\n",
    "    step= 1# each value has a difference of one\n",
    "#create a for loop to populate keys and values\n",
    "# range is given from 1 to 61 as there are 60 UTM zones(longitudes)\n",
    "    for j in range(1, 61):\n",
    "        #the below statement generates strings of 60 keys and also their respective values using np.arange(). Example of a key is '1', list() converts array into list \n",
    "        longDict[str(j)] = list(np.arange(start,stop,step))#LHS command for keys and RHS for values\n",
    "        start=start+6 # updates the start by adding 6 as each longitude differs by a 6 degree difference\n",
    "        stop=stop+6 # updates the start by adding 6 as each longitude differs by a 6 degree difference\n",
    "        \n",
    "    #print(longDict) #to check the keys and values of the dictionary that stores the ranges of longitudes and their corresponding UTM zone number     \n",
    "    #create empty string key variable for the longitudes\n",
    "    longKey=''\n",
    "    # the for statement checks the keys(key) and values(list_of_values) from the items(longDict.items()) from the longDIct dictionary\n",
    "    for key, list_of_values in longDict.items(): \n",
    "        #checks if the input longitude value (converted to int) exists in the values of the dictionary\n",
    "            if long_Float_to_Int in list_of_values:\n",
    "                #assigns the corresponding key to longKey variable\n",
    "                longKey=key\n",
    "    \n",
    "    #the function transformX2 finally returns the UTM zone number(longKey)\n",
    "    return(longKey)\n",
    "    raise NotImplementedError()\n",
    "    \n",
    "#creating a function to generate UTM band from latitude         \n",
    "def transformY2(latitude):\n",
    "\n",
    "    #rounding off the input float values for easier use in dictionaries\n",
    "    lat_Float_to_Int=int(round(latitude,0))   \n",
    "    \n",
    "    #create an empty dictionary to populate keys and values\n",
    "    latDict={}\n",
    "    #first creating a dictionary values until the key W. This is done as the number of values in X is irregualr compared to the rest of the latitude bands\n",
    "    start= -80 #latitude 1 starts at -80\n",
    "    stop= -72#and ends at -71\n",
    "    step= 1\n",
    "    #a tuple is created for storing the latitude string bands as a string variable cannot be called in a dictionary to populate the keys\n",
    "    latBands=(\"C\",\"D\",\"E\",\"F\",\"G\",\"H\",\"J\",\"K\",\"L\",\"M\",\"N\",\"P\",\"Q\",\"R\",\"S\",\"T\",\"U\",\"V\",\"W\",\"X\")\n",
    "    for j in range(0, 19):\n",
    "        #the below statement generates strings of 19 keys and also their respective values using np.arange(). Example of a key is '1', list() converts array into list \n",
    "        latDict[latBands[j]] = list(np.arange(start,stop,step))#LHS command for keys and RHS for values\n",
    "        start=start+8  # updates the start by adding 8 as each latitude differs by a 8 degree difference\n",
    "        stop=stop+8  # updates the stop by adding 6 as each latitude differs by a 8 degree difference\n",
    "    \n",
    "    tupleX=tuple(range(72,85))# creates a tuple that stores the values for X latitude band\n",
    "    latDict_1={'X':tupleX}#creates a new dictionary for X band with values of tupleX\n",
    "    latDict.update(latDict_1)# this statement joins the previous dictionary latDict with latDict_1. Here latDict is updated with the new values from latDict_1\n",
    "    #print(latDict) #to check the keys and values of the dictionary that stores the ranges of latitudes and their corresponding latitude band     \n",
    "    \n",
    "    #create empty string key variable for the latitudes\n",
    "    latKey=''\n",
    "     # the for statement checks the keys(key) and values(list_of_values) from the items(latDict.items()) from the latDict dictionary\n",
    "    for key, list_of_values in latDict.items():\n",
    "         #checks if the input latitude value (converted to int) exists in the values of the dictionary\n",
    "            if lat_Float_to_Int in list_of_values:\n",
    "                 #assigns the corresponding key to latKey variable\n",
    "                latKey=key\n",
    "    \n",
    "     #the function transformY2 finally returns the UTM latitude band(latKey)\n",
    "    return(latKey)\n",
    "    raise NotImplementedError()\n",
    "\n",
    "def transformUTM2(longitude, latitude):\n",
    "    '''returns UTM zone code of a longitude, latitude pair. Both longitude and latitude are float numbers'''\n",
    "   # Create two variables to access both the latitude and longitude UTM functions created before\n",
    "    utmXfunction=transformX2(longitude)# takes the longitude argument from input, executes the transformX2 function with the input and stores the output of the function as a variable \n",
    "    utmYfunction=transformY2(latitude)# takes the latitude argument from input, executes the transformY2 function with the input and stores the output of the function as a variable \n",
    "    return utmXfunction+utmYfunction\n",
    "    raise NotImplementedError()\n",
    "    "
   ]
  },
  {
   "cell_type": "code",
   "execution_count": 10,
   "id": "f32dc4bb",
   "metadata": {
    "deletable": false,
    "editable": false,
    "nbgrader": {
     "cell_type": "code",
     "checksum": "2245c1fc7b1dccf153fb5ca27b0ad834",
     "grade": true,
     "grade_id": "method2_tests",
     "locked": true,
     "points": 2,
     "schema_version": 3,
     "solution": false,
     "task": false
    }
   },
   "outputs": [
    {
     "name": "stdout",
     "output_type": "stream",
     "text": [
      "success!\n"
     ]
    }
   ],
   "source": [
    "'''test your implementation'''\n",
    "assert transformUTM2(144.9631,-37.8136)=='55H', \"The UTM zone of Melbourne should be '55H'\"\n",
    "print('success!')"
   ]
  },
  {
   "cell_type": "code",
   "execution_count": null,
   "id": "09239b0c",
   "metadata": {},
   "outputs": [],
   "source": []
  },
  {
   "cell_type": "code",
   "execution_count": null,
   "id": "8dcb03ea",
   "metadata": {
    "scrolled": true
   },
   "outputs": [],
   "source": []
  },
  {
   "cell_type": "code",
   "execution_count": null,
   "id": "4438ecf4",
   "metadata": {},
   "outputs": [],
   "source": []
  }
 ],
 "metadata": {
  "kernelspec": {
   "display_name": "Python 3",
   "language": "python",
   "name": "python3"
  },
  "language_info": {
   "codemirror_mode": {
    "name": "ipython",
    "version": 3
   },
   "file_extension": ".py",
   "mimetype": "text/x-python",
   "name": "python",
   "nbconvert_exporter": "python",
   "pygments_lexer": "ipython3",
   "version": "3.8.8"
  }
 },
 "nbformat": 4,
 "nbformat_minor": 5
}
